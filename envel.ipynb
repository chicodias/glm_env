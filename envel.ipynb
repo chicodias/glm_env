{
 "cells": [
  {
   "cell_type": "markdown",
   "metadata": {},
   "source": [
    "## Envelope de regressão dos resíduos do modelo logístico\n",
    "\n",
    "baseado no código do Prof. Gilberto Paula disponível em https://www.ime.usp.br/~giapaula/envel_norm"
   ]
  },
  {
   "cell_type": "code",
   "execution_count": 28,
   "metadata": {},
   "outputs": [],
   "source": [
    "import numpy as np\n",
    "import pandas as pd\n",
    "from statsmodels.genmod.generalized_linear_model import GLM\n",
    "import statsmodels.stats.tests.test_influence\n",
    "from statsmodels.genmod import families\n",
    "from pycaret.datasets import get_data\n",
    "import statsmodels.api as sm\n",
    "import matplotlib.pyplot as plt"
   ]
  },
  {
   "cell_type": "code",
   "execution_count": 2,
   "metadata": {},
   "outputs": [
    {
     "data": {
      "text/html": [
       "<div>\n",
       "<style scoped>\n",
       "    .dataframe tbody tr th:only-of-type {\n",
       "        vertical-align: middle;\n",
       "    }\n",
       "\n",
       "    .dataframe tbody tr th {\n",
       "        vertical-align: top;\n",
       "    }\n",
       "\n",
       "    .dataframe thead th {\n",
       "        text-align: right;\n",
       "    }\n",
       "</style>\n",
       "<table border=\"1\" class=\"dataframe\">\n",
       "  <thead>\n",
       "    <tr style=\"text-align: right;\">\n",
       "      <th></th>\n",
       "      <th>sepal_length</th>\n",
       "      <th>sepal_width</th>\n",
       "      <th>petal_length</th>\n",
       "      <th>petal_width</th>\n",
       "      <th>species</th>\n",
       "    </tr>\n",
       "  </thead>\n",
       "  <tbody>\n",
       "    <tr>\n",
       "      <th>0</th>\n",
       "      <td>5.1</td>\n",
       "      <td>3.5</td>\n",
       "      <td>1.4</td>\n",
       "      <td>0.2</td>\n",
       "      <td>Iris-setosa</td>\n",
       "    </tr>\n",
       "    <tr>\n",
       "      <th>1</th>\n",
       "      <td>4.9</td>\n",
       "      <td>3.0</td>\n",
       "      <td>1.4</td>\n",
       "      <td>0.2</td>\n",
       "      <td>Iris-setosa</td>\n",
       "    </tr>\n",
       "    <tr>\n",
       "      <th>2</th>\n",
       "      <td>4.7</td>\n",
       "      <td>3.2</td>\n",
       "      <td>1.3</td>\n",
       "      <td>0.2</td>\n",
       "      <td>Iris-setosa</td>\n",
       "    </tr>\n",
       "    <tr>\n",
       "      <th>3</th>\n",
       "      <td>4.6</td>\n",
       "      <td>3.1</td>\n",
       "      <td>1.5</td>\n",
       "      <td>0.2</td>\n",
       "      <td>Iris-setosa</td>\n",
       "    </tr>\n",
       "    <tr>\n",
       "      <th>4</th>\n",
       "      <td>5.0</td>\n",
       "      <td>3.6</td>\n",
       "      <td>1.4</td>\n",
       "      <td>0.2</td>\n",
       "      <td>Iris-setosa</td>\n",
       "    </tr>\n",
       "  </tbody>\n",
       "</table>\n",
       "</div>"
      ],
      "text/plain": [
       "   sepal_length  sepal_width  petal_length  petal_width      species\n",
       "0           5.1          3.5           1.4          0.2  Iris-setosa\n",
       "1           4.9          3.0           1.4          0.2  Iris-setosa\n",
       "2           4.7          3.2           1.3          0.2  Iris-setosa\n",
       "3           4.6          3.1           1.5          0.2  Iris-setosa\n",
       "4           5.0          3.6           1.4          0.2  Iris-setosa"
      ]
     },
     "metadata": {},
     "output_type": "display_data"
    },
    {
     "data": {
      "text/plain": [
       "<bound method NDFrame.head of      sepal_length  sepal_width  petal_length  petal_width  \\\n",
       "0             5.1          3.5           1.4          0.2   \n",
       "1             4.9          3.0           1.4          0.2   \n",
       "2             4.7          3.2           1.3          0.2   \n",
       "3             4.6          3.1           1.5          0.2   \n",
       "4             5.0          3.6           1.4          0.2   \n",
       "..            ...          ...           ...          ...   \n",
       "145           6.7          3.0           5.2          2.3   \n",
       "146           6.3          2.5           5.0          1.9   \n",
       "147           6.5          3.0           5.2          2.0   \n",
       "148           6.2          3.4           5.4          2.3   \n",
       "149           5.9          3.0           5.1          1.8   \n",
       "\n",
       "     species_Iris-virginica  \n",
       "0                         0  \n",
       "1                         0  \n",
       "2                         0  \n",
       "3                         0  \n",
       "4                         0  \n",
       "..                      ...  \n",
       "145                       1  \n",
       "146                       1  \n",
       "147                       1  \n",
       "148                       1  \n",
       "149                       1  \n",
       "\n",
       "[150 rows x 5 columns]>"
      ]
     },
     "execution_count": 2,
     "metadata": {},
     "output_type": "execute_result"
    }
   ],
   "source": [
    "# retrieve iris data from pycaret\n",
    "df = get_data('iris')\n",
    "\n",
    "# create dummies for Species\n",
    "df = pd.get_dummies(df, columns=['species'])\n",
    "\n",
    "# drop species, species_Iris-setosa and species_Iris-versicolor\n",
    "df = df.drop(['species_Iris-setosa', 'species_Iris-versicolor'], axis=1)\n",
    "\n",
    "df.head"
   ]
  },
  {
   "cell_type": "code",
   "execution_count": 3,
   "metadata": {},
   "outputs": [],
   "source": [
    "fatores = ['sepal_length','sepal_width', 'petal_length','petal_width']\n",
    "\n",
    "resposta = ['species_Iris-virginica']"
   ]
  },
  {
   "cell_type": "code",
   "execution_count": 4,
   "metadata": {},
   "outputs": [
    {
     "data": {
      "text/html": [
       "<div>\n",
       "<style scoped>\n",
       "    .dataframe tbody tr th:only-of-type {\n",
       "        vertical-align: middle;\n",
       "    }\n",
       "\n",
       "    .dataframe tbody tr th {\n",
       "        vertical-align: top;\n",
       "    }\n",
       "\n",
       "    .dataframe thead th {\n",
       "        text-align: right;\n",
       "    }\n",
       "</style>\n",
       "<table border=\"1\" class=\"dataframe\">\n",
       "  <thead>\n",
       "    <tr style=\"text-align: right;\">\n",
       "      <th></th>\n",
       "      <th>species_Iris-virginica</th>\n",
       "    </tr>\n",
       "  </thead>\n",
       "  <tbody>\n",
       "    <tr>\n",
       "      <th>0</th>\n",
       "      <td>0</td>\n",
       "    </tr>\n",
       "    <tr>\n",
       "      <th>1</th>\n",
       "      <td>0</td>\n",
       "    </tr>\n",
       "    <tr>\n",
       "      <th>2</th>\n",
       "      <td>0</td>\n",
       "    </tr>\n",
       "    <tr>\n",
       "      <th>3</th>\n",
       "      <td>0</td>\n",
       "    </tr>\n",
       "    <tr>\n",
       "      <th>4</th>\n",
       "      <td>0</td>\n",
       "    </tr>\n",
       "    <tr>\n",
       "      <th>...</th>\n",
       "      <td>...</td>\n",
       "    </tr>\n",
       "    <tr>\n",
       "      <th>145</th>\n",
       "      <td>1</td>\n",
       "    </tr>\n",
       "    <tr>\n",
       "      <th>146</th>\n",
       "      <td>1</td>\n",
       "    </tr>\n",
       "    <tr>\n",
       "      <th>147</th>\n",
       "      <td>1</td>\n",
       "    </tr>\n",
       "    <tr>\n",
       "      <th>148</th>\n",
       "      <td>1</td>\n",
       "    </tr>\n",
       "    <tr>\n",
       "      <th>149</th>\n",
       "      <td>1</td>\n",
       "    </tr>\n",
       "  </tbody>\n",
       "</table>\n",
       "<p>150 rows × 1 columns</p>\n",
       "</div>"
      ],
      "text/plain": [
       "     species_Iris-virginica\n",
       "0                         0\n",
       "1                         0\n",
       "2                         0\n",
       "3                         0\n",
       "4                         0\n",
       "..                      ...\n",
       "145                       1\n",
       "146                       1\n",
       "147                       1\n",
       "148                       1\n",
       "149                       1\n",
       "\n",
       "[150 rows x 1 columns]"
      ]
     },
     "execution_count": 4,
     "metadata": {},
     "output_type": "execute_result"
    }
   ],
   "source": [
    "df[resposta]"
   ]
  },
  {
   "cell_type": "code",
   "execution_count": 5,
   "metadata": {},
   "outputs": [],
   "source": [
    "# create an array with n 1s\n",
    "mt = np.ones(len(df))\n",
    "\n",
    "# create a matrix with the values of the variables\n",
    "X = df[fatores].values\n",
    "\n",
    "# join mt as first column of X\n",
    "X = np.column_stack((mt, X))"
   ]
  },
  {
   "cell_type": "code",
   "execution_count": 6,
   "metadata": {},
   "outputs": [],
   "source": [
    "# number of rows of X\n",
    "n = len(X)\n",
    "\n",
    "# number of columns of X\n",
    "p = len(X[0])"
   ]
  },
  {
   "cell_type": "code",
   "execution_count": 7,
   "metadata": {},
   "outputs": [
    {
     "data": {
      "text/plain": [
       "array([[1. , 5.1, 3.5, 1.4, 0.2],\n",
       "       [1. , 4.9, 3. , 1.4, 0.2],\n",
       "       [1. , 4.7, 3.2, 1.3, 0.2],\n",
       "       [1. , 4.6, 3.1, 1.5, 0.2],\n",
       "       [1. , 5. , 3.6, 1.4, 0.2],\n",
       "       [1. , 5.4, 3.9, 1.7, 0.4],\n",
       "       [1. , 4.6, 3.4, 1.4, 0.3],\n",
       "       [1. , 5. , 3.4, 1.5, 0.2],\n",
       "       [1. , 4.4, 2.9, 1.4, 0.2],\n",
       "       [1. , 4.9, 3.1, 1.5, 0.1],\n",
       "       [1. , 5.4, 3.7, 1.5, 0.2],\n",
       "       [1. , 4.8, 3.4, 1.6, 0.2],\n",
       "       [1. , 4.8, 3. , 1.4, 0.1],\n",
       "       [1. , 4.3, 3. , 1.1, 0.1],\n",
       "       [1. , 5.8, 4. , 1.2, 0.2],\n",
       "       [1. , 5.7, 4.4, 1.5, 0.4],\n",
       "       [1. , 5.4, 3.9, 1.3, 0.4],\n",
       "       [1. , 5.1, 3.5, 1.4, 0.3],\n",
       "       [1. , 5.7, 3.8, 1.7, 0.3],\n",
       "       [1. , 5.1, 3.8, 1.5, 0.3],\n",
       "       [1. , 5.4, 3.4, 1.7, 0.2],\n",
       "       [1. , 5.1, 3.7, 1.5, 0.4],\n",
       "       [1. , 4.6, 3.6, 1. , 0.2],\n",
       "       [1. , 5.1, 3.3, 1.7, 0.5],\n",
       "       [1. , 4.8, 3.4, 1.9, 0.2],\n",
       "       [1. , 5. , 3. , 1.6, 0.2],\n",
       "       [1. , 5. , 3.4, 1.6, 0.4],\n",
       "       [1. , 5.2, 3.5, 1.5, 0.2],\n",
       "       [1. , 5.2, 3.4, 1.4, 0.2],\n",
       "       [1. , 4.7, 3.2, 1.6, 0.2],\n",
       "       [1. , 4.8, 3.1, 1.6, 0.2],\n",
       "       [1. , 5.4, 3.4, 1.5, 0.4],\n",
       "       [1. , 5.2, 4.1, 1.5, 0.1],\n",
       "       [1. , 5.5, 4.2, 1.4, 0.2],\n",
       "       [1. , 4.9, 3.1, 1.5, 0.1],\n",
       "       [1. , 5. , 3.2, 1.2, 0.2],\n",
       "       [1. , 5.5, 3.5, 1.3, 0.2],\n",
       "       [1. , 4.9, 3.1, 1.5, 0.1],\n",
       "       [1. , 4.4, 3. , 1.3, 0.2],\n",
       "       [1. , 5.1, 3.4, 1.5, 0.2],\n",
       "       [1. , 5. , 3.5, 1.3, 0.3],\n",
       "       [1. , 4.5, 2.3, 1.3, 0.3],\n",
       "       [1. , 4.4, 3.2, 1.3, 0.2],\n",
       "       [1. , 5. , 3.5, 1.6, 0.6],\n",
       "       [1. , 5.1, 3.8, 1.9, 0.4],\n",
       "       [1. , 4.8, 3. , 1.4, 0.3],\n",
       "       [1. , 5.1, 3.8, 1.6, 0.2],\n",
       "       [1. , 4.6, 3.2, 1.4, 0.2],\n",
       "       [1. , 5.3, 3.7, 1.5, 0.2],\n",
       "       [1. , 5. , 3.3, 1.4, 0.2],\n",
       "       [1. , 7. , 3.2, 4.7, 1.4],\n",
       "       [1. , 6.4, 3.2, 4.5, 1.5],\n",
       "       [1. , 6.9, 3.1, 4.9, 1.5],\n",
       "       [1. , 5.5, 2.3, 4. , 1.3],\n",
       "       [1. , 6.5, 2.8, 4.6, 1.5],\n",
       "       [1. , 5.7, 2.8, 4.5, 1.3],\n",
       "       [1. , 6.3, 3.3, 4.7, 1.6],\n",
       "       [1. , 4.9, 2.4, 3.3, 1. ],\n",
       "       [1. , 6.6, 2.9, 4.6, 1.3],\n",
       "       [1. , 5.2, 2.7, 3.9, 1.4],\n",
       "       [1. , 5. , 2. , 3.5, 1. ],\n",
       "       [1. , 5.9, 3. , 4.2, 1.5],\n",
       "       [1. , 6. , 2.2, 4. , 1. ],\n",
       "       [1. , 6.1, 2.9, 4.7, 1.4],\n",
       "       [1. , 5.6, 2.9, 3.6, 1.3],\n",
       "       [1. , 6.7, 3.1, 4.4, 1.4],\n",
       "       [1. , 5.6, 3. , 4.5, 1.5],\n",
       "       [1. , 5.8, 2.7, 4.1, 1. ],\n",
       "       [1. , 6.2, 2.2, 4.5, 1.5],\n",
       "       [1. , 5.6, 2.5, 3.9, 1.1],\n",
       "       [1. , 5.9, 3.2, 4.8, 1.8],\n",
       "       [1. , 6.1, 2.8, 4. , 1.3],\n",
       "       [1. , 6.3, 2.5, 4.9, 1.5],\n",
       "       [1. , 6.1, 2.8, 4.7, 1.2],\n",
       "       [1. , 6.4, 2.9, 4.3, 1.3],\n",
       "       [1. , 6.6, 3. , 4.4, 1.4],\n",
       "       [1. , 6.8, 2.8, 4.8, 1.4],\n",
       "       [1. , 6.7, 3. , 5. , 1.7],\n",
       "       [1. , 6. , 2.9, 4.5, 1.5],\n",
       "       [1. , 5.7, 2.6, 3.5, 1. ],\n",
       "       [1. , 5.5, 2.4, 3.8, 1.1],\n",
       "       [1. , 5.5, 2.4, 3.7, 1. ],\n",
       "       [1. , 5.8, 2.7, 3.9, 1.2],\n",
       "       [1. , 6. , 2.7, 5.1, 1.6],\n",
       "       [1. , 5.4, 3. , 4.5, 1.5],\n",
       "       [1. , 6. , 3.4, 4.5, 1.6],\n",
       "       [1. , 6.7, 3.1, 4.7, 1.5],\n",
       "       [1. , 6.3, 2.3, 4.4, 1.3],\n",
       "       [1. , 5.6, 3. , 4.1, 1.3],\n",
       "       [1. , 5.5, 2.5, 4. , 1.3],\n",
       "       [1. , 5.5, 2.6, 4.4, 1.2],\n",
       "       [1. , 6.1, 3. , 4.6, 1.4],\n",
       "       [1. , 5.8, 2.6, 4. , 1.2],\n",
       "       [1. , 5. , 2.3, 3.3, 1. ],\n",
       "       [1. , 5.6, 2.7, 4.2, 1.3],\n",
       "       [1. , 5.7, 3. , 4.2, 1.2],\n",
       "       [1. , 5.7, 2.9, 4.2, 1.3],\n",
       "       [1. , 6.2, 2.9, 4.3, 1.3],\n",
       "       [1. , 5.1, 2.5, 3. , 1.1],\n",
       "       [1. , 5.7, 2.8, 4.1, 1.3],\n",
       "       [1. , 6.3, 3.3, 6. , 2.5],\n",
       "       [1. , 5.8, 2.7, 5.1, 1.9],\n",
       "       [1. , 7.1, 3. , 5.9, 2.1],\n",
       "       [1. , 6.3, 2.9, 5.6, 1.8],\n",
       "       [1. , 6.5, 3. , 5.8, 2.2],\n",
       "       [1. , 7.6, 3. , 6.6, 2.1],\n",
       "       [1. , 4.9, 2.5, 4.5, 1.7],\n",
       "       [1. , 7.3, 2.9, 6.3, 1.8],\n",
       "       [1. , 6.7, 2.5, 5.8, 1.8],\n",
       "       [1. , 7.2, 3.6, 6.1, 2.5],\n",
       "       [1. , 6.5, 3.2, 5.1, 2. ],\n",
       "       [1. , 6.4, 2.7, 5.3, 1.9],\n",
       "       [1. , 6.8, 3. , 5.5, 2.1],\n",
       "       [1. , 5.7, 2.5, 5. , 2. ],\n",
       "       [1. , 5.8, 2.8, 5.1, 2.4],\n",
       "       [1. , 6.4, 3.2, 5.3, 2.3],\n",
       "       [1. , 6.5, 3. , 5.5, 1.8],\n",
       "       [1. , 7.7, 3.8, 6.7, 2.2],\n",
       "       [1. , 7.7, 2.6, 6.9, 2.3],\n",
       "       [1. , 6. , 2.2, 5. , 1.5],\n",
       "       [1. , 6.9, 3.2, 5.7, 2.3],\n",
       "       [1. , 5.6, 2.8, 4.9, 2. ],\n",
       "       [1. , 7.7, 2.8, 6.7, 2. ],\n",
       "       [1. , 6.3, 2.7, 4.9, 1.8],\n",
       "       [1. , 6.7, 3.3, 5.7, 2.1],\n",
       "       [1. , 7.2, 3.2, 6. , 1.8],\n",
       "       [1. , 6.2, 2.8, 4.8, 1.8],\n",
       "       [1. , 6.1, 3. , 4.9, 1.8],\n",
       "       [1. , 6.4, 2.8, 5.6, 2.1],\n",
       "       [1. , 7.2, 3. , 5.8, 1.6],\n",
       "       [1. , 7.4, 2.8, 6.1, 1.9],\n",
       "       [1. , 7.9, 3.8, 6.4, 2. ],\n",
       "       [1. , 6.4, 2.8, 5.6, 2.2],\n",
       "       [1. , 6.3, 2.8, 5.1, 1.5],\n",
       "       [1. , 6.1, 2.6, 5.6, 1.4],\n",
       "       [1. , 7.7, 3. , 6.1, 2.3],\n",
       "       [1. , 6.3, 3.4, 5.6, 2.4],\n",
       "       [1. , 6.4, 3.1, 5.5, 1.8],\n",
       "       [1. , 6. , 3. , 4.8, 1.8],\n",
       "       [1. , 6.9, 3.1, 5.4, 2.1],\n",
       "       [1. , 6.7, 3.1, 5.6, 2.4],\n",
       "       [1. , 6.9, 3.1, 5.1, 2.3],\n",
       "       [1. , 5.8, 2.7, 5.1, 1.9],\n",
       "       [1. , 6.8, 3.2, 5.9, 2.3],\n",
       "       [1. , 6.7, 3.3, 5.7, 2.5],\n",
       "       [1. , 6.7, 3. , 5.2, 2.3],\n",
       "       [1. , 6.3, 2.5, 5. , 1.9],\n",
       "       [1. , 6.5, 3. , 5.2, 2. ],\n",
       "       [1. , 6.2, 3.4, 5.4, 2.3],\n",
       "       [1. , 5.9, 3. , 5.1, 1.8]])"
      ]
     },
     "execution_count": 7,
     "metadata": {},
     "output_type": "execute_result"
    }
   ],
   "source": [
    "X"
   ]
  },
  {
   "cell_type": "code",
   "execution_count": 8,
   "metadata": {},
   "outputs": [],
   "source": [
    "# transpose of X\n",
    "X_t = X.T\n",
    "\n",
    "# matrix multiplication of X_t and X\n",
    "X_t_X = np.dot(X_t, X)\n",
    "\n",
    "# inverse of X_t_X\n",
    "X_t_X_inv = np.linalg.inv(X_t_X)"
   ]
  },
  {
   "cell_type": "code",
   "execution_count": 9,
   "metadata": {},
   "outputs": [
    {
     "data": {
      "text/plain": [
       "array([[ 0.87322478, -0.12827533, -0.0775175 ,  0.01710196,  0.04626412],\n",
       "       [-0.12827533,  0.06952363, -0.04552854, -0.04943568,  0.03911176],\n",
       "       [-0.0775175 , -0.04552854,  0.07493195,  0.04409058, -0.04255397],\n",
       "       [ 0.01710196, -0.04943568,  0.04409058,  0.06768645, -0.09785564],\n",
       "       [ 0.04626412,  0.03911176, -0.04255397, -0.09785564,  0.18600615]])"
      ]
     },
     "execution_count": 9,
     "metadata": {},
     "output_type": "execute_result"
    }
   ],
   "source": [
    "X_t_X_inv"
   ]
  },
  {
   "cell_type": "code",
   "execution_count": 10,
   "metadata": {},
   "outputs": [],
   "source": [
    "# hat matrix of X\n",
    "# X%*%solve(t(X)%*%X)%*%t(X)\n",
    "H = np.dot(np.dot(X, X_t_X_inv), X_t)"
   ]
  },
  {
   "cell_type": "code",
   "execution_count": 11,
   "metadata": {},
   "outputs": [],
   "source": [
    "# diag of H matrix\n",
    "h = np.diag(H)"
   ]
  },
  {
   "cell_type": "code",
   "execution_count": 12,
   "metadata": {},
   "outputs": [
    {
     "data": {
      "text/plain": [
       "array([[1. , 1. , 1. , 1. , 1. , 1. , 1. , 1. , 1. , 1. , 1. , 1. , 1. ,\n",
       "        1. , 1. , 1. , 1. , 1. , 1. , 1. , 1. , 1. , 1. , 1. , 1. , 1. ,\n",
       "        1. , 1. , 1. , 1. , 1. , 1. , 1. , 1. , 1. , 1. , 1. , 1. , 1. ,\n",
       "        1. , 1. , 1. , 1. , 1. , 1. , 1. , 1. , 1. , 1. , 1. , 1. , 1. ,\n",
       "        1. , 1. , 1. , 1. , 1. , 1. , 1. , 1. , 1. , 1. , 1. , 1. , 1. ,\n",
       "        1. , 1. , 1. , 1. , 1. , 1. , 1. , 1. , 1. , 1. , 1. , 1. , 1. ,\n",
       "        1. , 1. , 1. , 1. , 1. , 1. , 1. , 1. , 1. , 1. , 1. , 1. , 1. ,\n",
       "        1. , 1. , 1. , 1. , 1. , 1. , 1. , 1. , 1. , 1. , 1. , 1. , 1. ,\n",
       "        1. , 1. , 1. , 1. , 1. , 1. , 1. , 1. , 1. , 1. , 1. , 1. , 1. ,\n",
       "        1. , 1. , 1. , 1. , 1. , 1. , 1. , 1. , 1. , 1. , 1. , 1. , 1. ,\n",
       "        1. , 1. , 1. , 1. , 1. , 1. , 1. , 1. , 1. , 1. , 1. , 1. , 1. ,\n",
       "        1. , 1. , 1. , 1. , 1. , 1. , 1. ],\n",
       "       [5.1, 4.9, 4.7, 4.6, 5. , 5.4, 4.6, 5. , 4.4, 4.9, 5.4, 4.8, 4.8,\n",
       "        4.3, 5.8, 5.7, 5.4, 5.1, 5.7, 5.1, 5.4, 5.1, 4.6, 5.1, 4.8, 5. ,\n",
       "        5. , 5.2, 5.2, 4.7, 4.8, 5.4, 5.2, 5.5, 4.9, 5. , 5.5, 4.9, 4.4,\n",
       "        5.1, 5. , 4.5, 4.4, 5. , 5.1, 4.8, 5.1, 4.6, 5.3, 5. , 7. , 6.4,\n",
       "        6.9, 5.5, 6.5, 5.7, 6.3, 4.9, 6.6, 5.2, 5. , 5.9, 6. , 6.1, 5.6,\n",
       "        6.7, 5.6, 5.8, 6.2, 5.6, 5.9, 6.1, 6.3, 6.1, 6.4, 6.6, 6.8, 6.7,\n",
       "        6. , 5.7, 5.5, 5.5, 5.8, 6. , 5.4, 6. , 6.7, 6.3, 5.6, 5.5, 5.5,\n",
       "        6.1, 5.8, 5. , 5.6, 5.7, 5.7, 6.2, 5.1, 5.7, 6.3, 5.8, 7.1, 6.3,\n",
       "        6.5, 7.6, 4.9, 7.3, 6.7, 7.2, 6.5, 6.4, 6.8, 5.7, 5.8, 6.4, 6.5,\n",
       "        7.7, 7.7, 6. , 6.9, 5.6, 7.7, 6.3, 6.7, 7.2, 6.2, 6.1, 6.4, 7.2,\n",
       "        7.4, 7.9, 6.4, 6.3, 6.1, 7.7, 6.3, 6.4, 6. , 6.9, 6.7, 6.9, 5.8,\n",
       "        6.8, 6.7, 6.7, 6.3, 6.5, 6.2, 5.9],\n",
       "       [3.5, 3. , 3.2, 3.1, 3.6, 3.9, 3.4, 3.4, 2.9, 3.1, 3.7, 3.4, 3. ,\n",
       "        3. , 4. , 4.4, 3.9, 3.5, 3.8, 3.8, 3.4, 3.7, 3.6, 3.3, 3.4, 3. ,\n",
       "        3.4, 3.5, 3.4, 3.2, 3.1, 3.4, 4.1, 4.2, 3.1, 3.2, 3.5, 3.1, 3. ,\n",
       "        3.4, 3.5, 2.3, 3.2, 3.5, 3.8, 3. , 3.8, 3.2, 3.7, 3.3, 3.2, 3.2,\n",
       "        3.1, 2.3, 2.8, 2.8, 3.3, 2.4, 2.9, 2.7, 2. , 3. , 2.2, 2.9, 2.9,\n",
       "        3.1, 3. , 2.7, 2.2, 2.5, 3.2, 2.8, 2.5, 2.8, 2.9, 3. , 2.8, 3. ,\n",
       "        2.9, 2.6, 2.4, 2.4, 2.7, 2.7, 3. , 3.4, 3.1, 2.3, 3. , 2.5, 2.6,\n",
       "        3. , 2.6, 2.3, 2.7, 3. , 2.9, 2.9, 2.5, 2.8, 3.3, 2.7, 3. , 2.9,\n",
       "        3. , 3. , 2.5, 2.9, 2.5, 3.6, 3.2, 2.7, 3. , 2.5, 2.8, 3.2, 3. ,\n",
       "        3.8, 2.6, 2.2, 3.2, 2.8, 2.8, 2.7, 3.3, 3.2, 2.8, 3. , 2.8, 3. ,\n",
       "        2.8, 3.8, 2.8, 2.8, 2.6, 3. , 3.4, 3.1, 3. , 3.1, 3.1, 3.1, 2.7,\n",
       "        3.2, 3.3, 3. , 2.5, 3. , 3.4, 3. ],\n",
       "       [1.4, 1.4, 1.3, 1.5, 1.4, 1.7, 1.4, 1.5, 1.4, 1.5, 1.5, 1.6, 1.4,\n",
       "        1.1, 1.2, 1.5, 1.3, 1.4, 1.7, 1.5, 1.7, 1.5, 1. , 1.7, 1.9, 1.6,\n",
       "        1.6, 1.5, 1.4, 1.6, 1.6, 1.5, 1.5, 1.4, 1.5, 1.2, 1.3, 1.5, 1.3,\n",
       "        1.5, 1.3, 1.3, 1.3, 1.6, 1.9, 1.4, 1.6, 1.4, 1.5, 1.4, 4.7, 4.5,\n",
       "        4.9, 4. , 4.6, 4.5, 4.7, 3.3, 4.6, 3.9, 3.5, 4.2, 4. , 4.7, 3.6,\n",
       "        4.4, 4.5, 4.1, 4.5, 3.9, 4.8, 4. , 4.9, 4.7, 4.3, 4.4, 4.8, 5. ,\n",
       "        4.5, 3.5, 3.8, 3.7, 3.9, 5.1, 4.5, 4.5, 4.7, 4.4, 4.1, 4. , 4.4,\n",
       "        4.6, 4. , 3.3, 4.2, 4.2, 4.2, 4.3, 3. , 4.1, 6. , 5.1, 5.9, 5.6,\n",
       "        5.8, 6.6, 4.5, 6.3, 5.8, 6.1, 5.1, 5.3, 5.5, 5. , 5.1, 5.3, 5.5,\n",
       "        6.7, 6.9, 5. , 5.7, 4.9, 6.7, 4.9, 5.7, 6. , 4.8, 4.9, 5.6, 5.8,\n",
       "        6.1, 6.4, 5.6, 5.1, 5.6, 6.1, 5.6, 5.5, 4.8, 5.4, 5.6, 5.1, 5.1,\n",
       "        5.9, 5.7, 5.2, 5. , 5.2, 5.4, 5.1],\n",
       "       [0.2, 0.2, 0.2, 0.2, 0.2, 0.4, 0.3, 0.2, 0.2, 0.1, 0.2, 0.2, 0.1,\n",
       "        0.1, 0.2, 0.4, 0.4, 0.3, 0.3, 0.3, 0.2, 0.4, 0.2, 0.5, 0.2, 0.2,\n",
       "        0.4, 0.2, 0.2, 0.2, 0.2, 0.4, 0.1, 0.2, 0.1, 0.2, 0.2, 0.1, 0.2,\n",
       "        0.2, 0.3, 0.3, 0.2, 0.6, 0.4, 0.3, 0.2, 0.2, 0.2, 0.2, 1.4, 1.5,\n",
       "        1.5, 1.3, 1.5, 1.3, 1.6, 1. , 1.3, 1.4, 1. , 1.5, 1. , 1.4, 1.3,\n",
       "        1.4, 1.5, 1. , 1.5, 1.1, 1.8, 1.3, 1.5, 1.2, 1.3, 1.4, 1.4, 1.7,\n",
       "        1.5, 1. , 1.1, 1. , 1.2, 1.6, 1.5, 1.6, 1.5, 1.3, 1.3, 1.3, 1.2,\n",
       "        1.4, 1.2, 1. , 1.3, 1.2, 1.3, 1.3, 1.1, 1.3, 2.5, 1.9, 2.1, 1.8,\n",
       "        2.2, 2.1, 1.7, 1.8, 1.8, 2.5, 2. , 1.9, 2.1, 2. , 2.4, 2.3, 1.8,\n",
       "        2.2, 2.3, 1.5, 2.3, 2. , 2. , 1.8, 2.1, 1.8, 1.8, 1.8, 2.1, 1.6,\n",
       "        1.9, 2. , 2.2, 1.5, 1.4, 2.3, 2.4, 1.8, 1.8, 2.1, 2.4, 2.3, 1.9,\n",
       "        2.3, 2.5, 2.3, 1.9, 2. , 2.3, 1.8]])"
      ]
     },
     "execution_count": 12,
     "metadata": {},
     "output_type": "execute_result"
    }
   ],
   "source": [
    "X_t"
   ]
  },
  {
   "cell_type": "code",
   "execution_count": 13,
   "metadata": {},
   "outputs": [
    {
     "data": {
      "text/plain": [
       "array([1., 1., 1., 1., 1., 1., 1., 1., 1., 1., 1., 1., 1., 1., 1., 1., 1.,\n",
       "       1., 1., 1., 1., 1., 1., 1., 1., 1., 1., 1., 1., 1., 1., 1., 1., 1.,\n",
       "       1., 1., 1., 1., 1., 1., 1., 1., 1., 1., 1., 1., 1., 1., 1., 1., 1.,\n",
       "       1., 1., 1., 1., 1., 1., 1., 1., 1., 1., 1., 1., 1., 1., 1., 1., 1.,\n",
       "       1., 1., 1., 1., 1., 1., 1., 1., 1., 1., 1., 1., 1., 1., 1., 1., 1.,\n",
       "       1., 1., 1., 1., 1., 1., 1., 1., 1., 1., 1., 1., 1., 1., 1., 1., 1.,\n",
       "       1., 1., 1., 1., 1., 1., 1., 1., 1., 1., 1., 1., 1., 1., 1., 1., 1.,\n",
       "       1., 1., 1., 1., 1., 1., 1., 1., 1., 1., 1., 1., 1., 1., 1., 1., 1.,\n",
       "       1., 1., 1., 1., 1., 1., 1., 1., 1., 1., 1., 1., 1., 1.])"
      ]
     },
     "execution_count": 13,
     "metadata": {},
     "output_type": "execute_result"
    }
   ],
   "source": [
    "mt"
   ]
  },
  {
   "cell_type": "code",
   "execution_count": 14,
   "metadata": {},
   "outputs": [
    {
     "name": "stdout",
     "output_type": "stream",
     "text": [
      "Optimization terminated successfully.\n",
      "         Current function value: inf\n",
      "         Iterations 12\n"
     ]
    },
    {
     "name": "stderr",
     "output_type": "stream",
     "text": [
      "/home/chico/miniconda3/envs/pyc/lib/python3.8/site-packages/statsmodels/discrete/discrete_model.py:1819: RuntimeWarning: overflow encountered in exp\n",
      "  return 1/(1+np.exp(-X))\n",
      "/home/chico/miniconda3/envs/pyc/lib/python3.8/site-packages/statsmodels/discrete/discrete_model.py:1872: RuntimeWarning: divide by zero encountered in log\n",
      "  return np.sum(np.log(self.cdf(q*np.dot(X,params))))\n"
     ]
    }
   ],
   "source": [
    "# fit a logistic regression model\n",
    "fit = sm.Logit(df[resposta], df[fatores]).fit()"
   ]
  },
  {
   "cell_type": "code",
   "execution_count": 15,
   "metadata": {},
   "outputs": [
    {
     "name": "stderr",
     "output_type": "stream",
     "text": [
      "/home/chico/miniconda3/envs/pyc/lib/python3.8/site-packages/statsmodels/base/model.py:592: HessianInversionWarning: Inverting hessian failed, no bse or cov_params available\n",
      "  warnings.warn('Inverting hessian failed, no bse or cov_params '\n",
      "/home/chico/miniconda3/envs/pyc/lib/python3.8/site-packages/statsmodels/base/model.py:592: HessianInversionWarning: Inverting hessian failed, no bse or cov_params available\n",
      "  warnings.warn('Inverting hessian failed, no bse or cov_params '\n"
     ]
    },
    {
     "data": {
      "text/html": [
       "<table class=\"simpletable\">\n",
       "<caption>Logit Regression Results</caption>\n",
       "<tr>\n",
       "  <th>Dep. Variable:</th>   <td>species_Iris-virginica</td> <th>  No. Observations:  </th>  <td>   150</td> \n",
       "</tr>\n",
       "<tr>\n",
       "  <th>Model:</th>                    <td>Logit</td>         <th>  Df Residuals:      </th>  <td>   146</td> \n",
       "</tr>\n",
       "<tr>\n",
       "  <th>Method:</th>                    <td>MLE</td>          <th>  Df Model:          </th>  <td>     3</td> \n",
       "</tr>\n",
       "<tr>\n",
       "  <th>Date:</th>               <td>Sun, 22 May 2022</td>    <th>  Pseudo R-squ.:     </th>  <td>   inf</td> \n",
       "</tr>\n",
       "<tr>\n",
       "  <th>Time:</th>                   <td>16:45:14</td>        <th>  Log-Likelihood:    </th> <td>    -inf</td>\n",
       "</tr>\n",
       "<tr>\n",
       "  <th>converged:</th>                <td>True</td>          <th>  LL-Null:           </th> <td>  0.0000</td>\n",
       "</tr>\n",
       "<tr>\n",
       "  <th>Covariance Type:</th>        <td>nonrobust</td>       <th>  LLR p-value:       </th>  <td> 1.000</td> \n",
       "</tr>\n",
       "</table>\n",
       "<table class=\"simpletable\">\n",
       "<tr>\n",
       "        <td></td>          <th>coef</th>     <th>std err</th>      <th>z</th>      <th>P>|z|</th>  <th>[0.025</th>    <th>0.975]</th>  \n",
       "</tr>\n",
       "<tr>\n",
       "  <th>sepal_length</th> <td>   -6.3277</td> <td>    2.479</td> <td>   -2.552</td> <td> 0.011</td> <td>  -11.187</td> <td>   -1.468</td>\n",
       "</tr>\n",
       "<tr>\n",
       "  <th>sepal_width</th>  <td>   -6.6182</td> <td>    2.529</td> <td>   -2.616</td> <td> 0.009</td> <td>  -11.576</td> <td>   -1.661</td>\n",
       "</tr>\n",
       "<tr>\n",
       "  <th>petal_length</th> <td>    8.4338</td> <td>    3.470</td> <td>    2.431</td> <td> 0.015</td> <td>    1.633</td> <td>   15.235</td>\n",
       "</tr>\n",
       "<tr>\n",
       "  <th>petal_width</th>  <td>   10.2825</td> <td>    3.459</td> <td>    2.972</td> <td> 0.003</td> <td>    3.502</td> <td>   17.063</td>\n",
       "</tr>\n",
       "</table><br/><br/>Possibly complete quasi-separation: A fraction 0.47 of observations can be<br/>perfectly predicted. This might indicate that there is complete<br/>quasi-separation. In this case some parameters will not be identified."
      ],
      "text/plain": [
       "<class 'statsmodels.iolib.summary.Summary'>\n",
       "\"\"\"\n",
       "                             Logit Regression Results                             \n",
       "==================================================================================\n",
       "Dep. Variable:     species_Iris-virginica   No. Observations:                  150\n",
       "Model:                              Logit   Df Residuals:                      146\n",
       "Method:                               MLE   Df Model:                            3\n",
       "Date:                    Sun, 22 May 2022   Pseudo R-squ.:                     inf\n",
       "Time:                            16:45:14   Log-Likelihood:                   -inf\n",
       "converged:                           True   LL-Null:                        0.0000\n",
       "Covariance Type:                nonrobust   LLR p-value:                     1.000\n",
       "================================================================================\n",
       "                   coef    std err          z      P>|z|      [0.025      0.975]\n",
       "--------------------------------------------------------------------------------\n",
       "sepal_length    -6.3277      2.479     -2.552      0.011     -11.187      -1.468\n",
       "sepal_width     -6.6182      2.529     -2.616      0.009     -11.576      -1.661\n",
       "petal_length     8.4338      3.470      2.431      0.015       1.633      15.235\n",
       "petal_width     10.2825      3.459      2.972      0.003       3.502      17.063\n",
       "================================================================================\n",
       "\n",
       "Possibly complete quasi-separation: A fraction 0.47 of observations can be\n",
       "perfectly predicted. This might indicate that there is complete\n",
       "quasi-separation. In this case some parameters will not be identified.\n",
       "\"\"\""
      ]
     },
     "execution_count": 15,
     "metadata": {},
     "output_type": "execute_result"
    }
   ],
   "source": [
    "# model summary\n",
    "fit.summary()"
   ]
  },
  {
   "cell_type": "code",
   "execution_count": 16,
   "metadata": {},
   "outputs": [
    {
     "data": {
      "text/plain": [
       "sepal_length    -6.327719\n",
       "sepal_width     -6.618187\n",
       "petal_length     8.433801\n",
       "petal_width     10.282544\n",
       "dtype: float64"
      ]
     },
     "execution_count": 16,
     "metadata": {},
     "output_type": "execute_result"
    }
   ],
   "source": [
    "# retrieve model matrix\n",
    "fit.params"
   ]
  },
  {
   "cell_type": "code",
   "execution_count": 17,
   "metadata": {},
   "outputs": [
    {
     "name": "stdout",
     "output_type": "stream",
     "text": [
      "                   Generalized Linear Model Regression Results                    \n",
      "==================================================================================\n",
      "Dep. Variable:     species_Iris-virginica   No. Observations:                  150\n",
      "Model:                                GLM   Df Residuals:                      146\n",
      "Model Family:                    Binomial   Df Model:                            3\n",
      "Link Function:                      Logit   Scale:                          1.0000\n",
      "Method:                              IRLS   Log-Likelihood:                -10.840\n",
      "Date:                    Sun, 22 May 2022   Deviance:                       21.680\n",
      "Time:                            16:45:14   Pearson chi2:                     47.9\n",
      "No. Iterations:                        11   Pseudo R-squ. (CS):             0.6765\n",
      "Covariance Type:                nonrobust                                         \n",
      "================================================================================\n",
      "                   coef    std err          z      P>|z|      [0.025      0.975]\n",
      "--------------------------------------------------------------------------------\n",
      "sepal_length    -6.3277      2.479     -2.552      0.011     -11.187      -1.468\n",
      "sepal_width     -6.6182      2.529     -2.616      0.009     -11.576      -1.661\n",
      "petal_length     8.4338      3.470      2.431      0.015       1.633      15.235\n",
      "petal_width     10.2825      3.459      2.972      0.003       3.502      17.063\n",
      "================================================================================\n"
     ]
    }
   ],
   "source": [
    "res = GLM(\n",
    "    df[resposta],\n",
    "     df[fatores],\n",
    "    family=families.Binomial(),\n",
    ").fit(attach_wls=True, atol=1e-10)\n",
    "print(res.summary())\n",
    "\n",
    "infl = res.get_influence(observed=False)"
   ]
  },
  {
   "cell_type": "code",
   "execution_count": 18,
   "metadata": {},
   "outputs": [],
   "source": [
    "si = infl.summary_frame()['standard_resid']"
   ]
  },
  {
   "cell_type": "code",
   "execution_count": 19,
   "metadata": {},
   "outputs": [
    {
     "data": {
      "text/html": [
       "<div>\n",
       "<style scoped>\n",
       "    .dataframe tbody tr th:only-of-type {\n",
       "        vertical-align: middle;\n",
       "    }\n",
       "\n",
       "    .dataframe tbody tr th {\n",
       "        vertical-align: top;\n",
       "    }\n",
       "\n",
       "    .dataframe thead th {\n",
       "        text-align: right;\n",
       "    }\n",
       "</style>\n",
       "<table border=\"1\" class=\"dataframe\">\n",
       "  <thead>\n",
       "    <tr style=\"text-align: right;\">\n",
       "      <th></th>\n",
       "      <th>dfb_sepal_length</th>\n",
       "      <th>dfb_sepal_width</th>\n",
       "      <th>dfb_petal_length</th>\n",
       "      <th>dfb_petal_width</th>\n",
       "      <th>cooks_d</th>\n",
       "      <th>standard_resid</th>\n",
       "      <th>hat_diag</th>\n",
       "      <th>dffits_internal</th>\n",
       "    </tr>\n",
       "  </thead>\n",
       "  <tbody>\n",
       "    <tr>\n",
       "      <th>0</th>\n",
       "      <td>-1.030669e-17</td>\n",
       "      <td>-9.714381e-18</td>\n",
       "      <td>1.082038e-17</td>\n",
       "      <td>7.708309e-18</td>\n",
       "      <td>3.496467e-35</td>\n",
       "      <td>-5.924354e-11</td>\n",
       "      <td>3.984808e-14</td>\n",
       "      <td>-1.182619e-17</td>\n",
       "    </tr>\n",
       "    <tr>\n",
       "      <th>1</th>\n",
       "      <td>-9.095133e-16</td>\n",
       "      <td>-8.152308e-16</td>\n",
       "      <td>9.428022e-16</td>\n",
       "      <td>6.628594e-16</td>\n",
       "      <td>2.610897e-31</td>\n",
       "      <td>-5.746199e-09</td>\n",
       "      <td>3.162921e-14</td>\n",
       "      <td>-1.021939e-15</td>\n",
       "    </tr>\n",
       "    <tr>\n",
       "      <th>2</th>\n",
       "      <td>-3.710748e-16</td>\n",
       "      <td>-3.483947e-16</td>\n",
       "      <td>3.894732e-16</td>\n",
       "      <td>2.760839e-16</td>\n",
       "      <td>4.515594e-32</td>\n",
       "      <td>-2.332790e-09</td>\n",
       "      <td>3.319125e-14</td>\n",
       "      <td>-4.249986e-16</td>\n",
       "    </tr>\n",
       "    <tr>\n",
       "      <th>3</th>\n",
       "      <td>-6.622574e-15</td>\n",
       "      <td>-6.326768e-15</td>\n",
       "      <td>6.936118e-15</td>\n",
       "      <td>5.107952e-15</td>\n",
       "      <td>1.464881e-29</td>\n",
       "      <td>-2.617821e-08</td>\n",
       "      <td>8.550319e-14</td>\n",
       "      <td>-7.654753e-15</td>\n",
       "    </tr>\n",
       "    <tr>\n",
       "      <th>4</th>\n",
       "      <td>-9.894565e-18</td>\n",
       "      <td>-9.559516e-18</td>\n",
       "      <td>1.044475e-17</td>\n",
       "      <td>7.525578e-18</td>\n",
       "      <td>3.296335e-35</td>\n",
       "      <td>-5.754746e-11</td>\n",
       "      <td>3.981429e-14</td>\n",
       "      <td>-1.148274e-17</td>\n",
       "    </tr>\n",
       "    <tr>\n",
       "      <th>...</th>\n",
       "      <td>...</td>\n",
       "      <td>...</td>\n",
       "      <td>...</td>\n",
       "      <td>...</td>\n",
       "      <td>...</td>\n",
       "      <td>...</td>\n",
       "      <td>...</td>\n",
       "      <td>...</td>\n",
       "    </tr>\n",
       "    <tr>\n",
       "      <th>145</th>\n",
       "      <td>-2.745816e-03</td>\n",
       "      <td>-5.692370e-03</td>\n",
       "      <td>1.775674e-03</td>\n",
       "      <td>9.610487e-03</td>\n",
       "      <td>2.607268e-05</td>\n",
       "      <td>7.295112e-02</td>\n",
       "      <td>1.922000e-02</td>\n",
       "      <td>1.021228e-02</td>\n",
       "    </tr>\n",
       "    <tr>\n",
       "      <th>146</th>\n",
       "      <td>-4.062722e-03</td>\n",
       "      <td>-7.621285e-03</td>\n",
       "      <td>4.582420e-03</td>\n",
       "      <td>7.172224e-03</td>\n",
       "      <td>1.897409e-05</td>\n",
       "      <td>7.132795e-02</td>\n",
       "      <td>1.469842e-02</td>\n",
       "      <td>8.711851e-03</td>\n",
       "    </tr>\n",
       "    <tr>\n",
       "      <th>147</th>\n",
       "      <td>-1.802386e-02</td>\n",
       "      <td>-2.149010e-02</td>\n",
       "      <td>1.511353e-02</td>\n",
       "      <td>3.240354e-02</td>\n",
       "      <td>3.522242e-04</td>\n",
       "      <td>1.831433e-01</td>\n",
       "      <td>4.031136e-02</td>\n",
       "      <td>3.753528e-02</td>\n",
       "    </tr>\n",
       "    <tr>\n",
       "      <th>148</th>\n",
       "      <td>-1.135574e-03</td>\n",
       "      <td>-5.998791e-04</td>\n",
       "      <td>9.072421e-04</td>\n",
       "      <td>1.140432e-03</td>\n",
       "      <td>4.998384e-07</td>\n",
       "      <td>2.405009e-02</td>\n",
       "      <td>3.444749e-03</td>\n",
       "      <td>1.413985e-03</td>\n",
       "    </tr>\n",
       "    <tr>\n",
       "      <th>149</th>\n",
       "      <td>-1.884085e-02</td>\n",
       "      <td>-9.101044e-03</td>\n",
       "      <td>1.725745e-02</td>\n",
       "      <td>1.138757e-02</td>\n",
       "      <td>1.057186e-04</td>\n",
       "      <td>1.163614e-01</td>\n",
       "      <td>3.028567e-02</td>\n",
       "      <td>2.056391e-02</td>\n",
       "    </tr>\n",
       "  </tbody>\n",
       "</table>\n",
       "<p>150 rows × 8 columns</p>\n",
       "</div>"
      ],
      "text/plain": [
       "     dfb_sepal_length  dfb_sepal_width  dfb_petal_length  dfb_petal_width  \\\n",
       "0       -1.030669e-17    -9.714381e-18      1.082038e-17     7.708309e-18   \n",
       "1       -9.095133e-16    -8.152308e-16      9.428022e-16     6.628594e-16   \n",
       "2       -3.710748e-16    -3.483947e-16      3.894732e-16     2.760839e-16   \n",
       "3       -6.622574e-15    -6.326768e-15      6.936118e-15     5.107952e-15   \n",
       "4       -9.894565e-18    -9.559516e-18      1.044475e-17     7.525578e-18   \n",
       "..                ...              ...               ...              ...   \n",
       "145     -2.745816e-03    -5.692370e-03      1.775674e-03     9.610487e-03   \n",
       "146     -4.062722e-03    -7.621285e-03      4.582420e-03     7.172224e-03   \n",
       "147     -1.802386e-02    -2.149010e-02      1.511353e-02     3.240354e-02   \n",
       "148     -1.135574e-03    -5.998791e-04      9.072421e-04     1.140432e-03   \n",
       "149     -1.884085e-02    -9.101044e-03      1.725745e-02     1.138757e-02   \n",
       "\n",
       "          cooks_d  standard_resid      hat_diag  dffits_internal  \n",
       "0    3.496467e-35   -5.924354e-11  3.984808e-14    -1.182619e-17  \n",
       "1    2.610897e-31   -5.746199e-09  3.162921e-14    -1.021939e-15  \n",
       "2    4.515594e-32   -2.332790e-09  3.319125e-14    -4.249986e-16  \n",
       "3    1.464881e-29   -2.617821e-08  8.550319e-14    -7.654753e-15  \n",
       "4    3.296335e-35   -5.754746e-11  3.981429e-14    -1.148274e-17  \n",
       "..            ...             ...           ...              ...  \n",
       "145  2.607268e-05    7.295112e-02  1.922000e-02     1.021228e-02  \n",
       "146  1.897409e-05    7.132795e-02  1.469842e-02     8.711851e-03  \n",
       "147  3.522242e-04    1.831433e-01  4.031136e-02     3.753528e-02  \n",
       "148  4.998384e-07    2.405009e-02  3.444749e-03     1.413985e-03  \n",
       "149  1.057186e-04    1.163614e-01  3.028567e-02     2.056391e-02  \n",
       "\n",
       "[150 rows x 8 columns]"
      ]
     },
     "execution_count": 19,
     "metadata": {},
     "output_type": "execute_result"
    }
   ],
   "source": [
    "infl.summary_frame()"
   ]
  },
  {
   "cell_type": "code",
   "execution_count": 20,
   "metadata": {},
   "outputs": [],
   "source": [
    "# identity matrix of order n\n",
    "ident = np.identity(n)\n",
    "\n",
    "# extract de diagonal\n",
    "u = np.diagonal(ident - H)"
   ]
  },
  {
   "cell_type": "code",
   "execution_count": 39,
   "metadata": {},
   "outputs": [],
   "source": [
    "\n",
    "    tsi = infl.resid_studentized\n",
    "\n",
    "    # identity matrix of order n\n",
    "    ident = np.identity(n)\n",
    "\n",
    "    # matrix with n cols and 100 rows\n",
    "    epsilon = np.zeros((n, 100))\n",
    "\n",
    "    e = np.zeros((n, 100))\n",
    "\n",
    "    # vector with n elements\n",
    "    e1 = np.zeros(n)\n",
    "    e2 = np.zeros(n)\n",
    "\n",
    "    for i in range(100):\n",
    "        epsilon[:, i] = np.random.normal(0,1,n)\n",
    "        e[:, i] = np.dot((ident-H),epsilon[:, i])\n",
    "        # create a diagonal matrix\n",
    "        u = np.diagonal(ident - H)\n",
    "        e[:,i] = e[:,i]/np.sqrt(u)\n",
    "        # sort e[,i]\n",
    "        e[:,i] = np.sort(e[:,i])\n",
    "\n",
    "    for i in range(n):\n",
    "        eo = np.sort(e[i,:])\n",
    "        e1[i] = (eo[1]+eo[2])/2\n",
    "        e2[i] = (eo[96]+eo[97])/2\n",
    "\n",
    "    # mean of colums of e\n",
    "    med = np.mean(e, axis=0)\n",
    "\n",
    "    faixa = [np.min([tsi,e1,e2]),\n",
    "            np.max([tsi,e1,e2])]\n",
    "\n"
   ]
  },
  {
   "cell_type": "code",
   "execution_count": 101,
   "metadata": {},
   "outputs": [
    {
     "ename": "AttributeError",
     "evalue": "'Figure' object has no attribute 'set_linestyle'",
     "output_type": "error",
     "traceback": [
      "\u001b[0;31m---------------------------------------------------------------------------\u001b[0m",
      "\u001b[0;31mAttributeError\u001b[0m                            Traceback (most recent call last)",
      "\u001b[1;32m/home/chico/glm_env/envel.ipynb Cell 24'\u001b[0m in \u001b[0;36m<cell line: 8>\u001b[0;34m()\u001b[0m\n\u001b[1;32m      <a href='vscode-notebook-cell:/home/chico/glm_env/envel.ipynb#ch0000021?line=5'>6</a>\u001b[0m plt\u001b[39m.\u001b[39mlegend([\u001b[39m'\u001b[39m\u001b[39mStudentized residuals\u001b[39m\u001b[39m'\u001b[39m, \u001b[39m'\u001b[39m\u001b[39m95\u001b[39m\u001b[39m% c\u001b[39;00m\u001b[39monfidence interval\u001b[39m\u001b[39m'\u001b[39m])\n\u001b[1;32m      <a href='vscode-notebook-cell:/home/chico/glm_env/envel.ipynb#ch0000021?line=6'>7</a>\u001b[0m plt\u001b[39m.\u001b[39mylim(faixa)\n\u001b[0;32m----> <a href='vscode-notebook-cell:/home/chico/glm_env/envel.ipynb#ch0000021?line=7'>8</a>\u001b[0m fig\u001b[39m.\u001b[39;49mset_linestyle(\u001b[39m'\u001b[39m\u001b[39m--\u001b[39m\u001b[39m'\u001b[39m)\n\u001b[1;32m      <a href='vscode-notebook-cell:/home/chico/glm_env/envel.ipynb#ch0000021?line=8'>9</a>\u001b[0m fig\u001b[39m.\u001b[39mshow()\n",
      "\u001b[0;31mAttributeError\u001b[0m: 'Figure' object has no attribute 'set_linestyle'"
     ]
    },
    {
     "data": {
      "image/png": "[encoded data removed]",
      "text/plain": [
       "<Figure size 432x288 with 1 Axes>"
      ]
     },
     "metadata": {
      "needs_background": "light"
     },
     "output_type": "display_data"
    }
   ],
   "source": [
    "    # qqplot\n",
    "\n",
    "    fig = sm.qqplot(tsi, line='s')\n",
    "    sm.qqplot(e1, ax = fig.axes[0],  color='#FFDD44')\n",
    "    sm.qqplot(e2, ax = fig.axes[0])\n",
    "    plt.legend(['Studentized residuals', '95% confidence interval'])\n",
    "    plt.ylim(faixa)\n",
    "    #fig.set_linestyle('--')\n",
    "    fig.show()"
   ]
  },
  {
   "cell_type": "code",
   "execution_count": null,
   "metadata": {},
   "outputs": [],
   "source": [
    "from scipy import stats\n",
    "from scipy import special\n",
    "import seaborn as sns\n",
    "\n",
    "\n",
    "#sns.lineplot(x = tsi, y = stats.probplot(tsi))"
   ]
  },
  {
   "cell_type": "code",
   "execution_count": 90,
   "metadata": {},
   "outputs": [],
   "source": [
    "\n",
    "# quantile of a normal\n",
    "def qnorm(p):\n",
    "    return np.sqrt(2)*special.erfinv(2*p-1)"
   ]
  },
  {
   "cell_type": "code",
   "execution_count": 33,
   "metadata": {},
   "outputs": [],
   "source": [
    "from scipy.stats import norm\n",
    "\n",
    "teste = np.linspace( norm.ppf(0.01), norm.ppf(0.99), len(tsi))"
   ]
  },
  {
   "cell_type": "code",
   "execution_count": 114,
   "metadata": {},
   "outputs": [
    {
     "data": {
      "text/plain": [
       "<AxesSubplot:>"
      ]
     },
     "execution_count": 114,
     "metadata": {},
     "output_type": "execute_result"
    },
    {
     "data": {
      "image/png": "[encoded data removed]",
      "text/plain": [
       "<Figure size 432x288 with 1 Axes>"
      ]
     },
     "metadata": {
      "needs_background": "light"
     },
     "output_type": "display_data"
    }
   ],
   "source": [
    "\n",
    "sns.scatterplot(x = teste,y = np.sort(tsi))\n",
    "sns.lineplot(x = teste, y =  e1)\n",
    "sns.lineplot(x = teste,y = e2)\n",
    "\n",
    "\n",
    "# lista de quantis"
   ]
  }
 ],
 "metadata": {
  "interpreter": {
   "hash": "d920ab8b643b361201af53703bcb9bb781b8806bdfaeb2db70b0d8da546d3b6e"
  },
  "kernelspec": {
   "display_name": "Python 3.8.12 ('pyc')",
   "language": "python",
   "name": "python3"
  },
  "language_info": {
   "codemirror_mode": {
    "name": "ipython",
    "version": 3
   },
   "file_extension": ".py",
   "mimetype": "text/x-python",
   "name": "python",
   "nbconvert_exporter": "python",
   "pygments_lexer": "ipython3",
   "version": "3.8.13"
  },
  "orig_nbformat": 4
 },
 "nbformat": 4,
 "nbformat_minor": 2
}
